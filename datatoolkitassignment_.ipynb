{
  "nbformat": 4,
  "nbformat_minor": 0,
  "metadata": {
    "colab": {
      "provenance": []
    },
    "kernelspec": {
      "name": "python3",
      "display_name": "Python 3"
    },
    "language_info": {
      "name": "python"
    }
  },
  "cells": [
    {
      "cell_type": "markdown",
      "source": [
        "**THEORY** **QUESTION**"
      ],
      "metadata": {
        "id": "eJcESHHB9Au7"
      }
    },
    {
      "cell_type": "markdown",
      "source": [
        "1. What is NumPy, and why is it widely used in Python?\n",
        "-> NumPy, which stands for \"Numerical Python,\" is a powerful open-source library in Python. It's widely used for scientific programming, especially in fields like Data Science, engineering, mathematics, and science. Its popularity in Python stems from its ability to handle complex scientific calculations efficiently."
      ],
      "metadata": {
        "id": "1t6W-_Xv9J_i"
      }
    },
    {
      "cell_type": "markdown",
      "source": [
        "2.  How does broadcasting work in NumPy?\n",
        "-> Broadcasting in NumPy allows for arithmetic operations between arrays of different shapes. When performing an operation on two arrays, NumPy compares their shapes element-wise starting from the trailing dimensions. If the dimensions are compatible, the smaller array is effectively \"stretched\" or \"broadcast\" to match the shape of the larger array, without actually creating copies of the data.\n",
        "\n",
        "Here's how broadcasting works:\n",
        "\n",
        "1. Compare Dimensions: NumPy compares the dimensions of the two arrays from right to left.\n",
        "2. Compatibility Check: Two dimensions are compatible if:\n",
        "  *   They are equal.\n",
        "  *   One of them is 1.\n",
        "3. Broadcasting: If the dimensions are compatible, the dimension with size 1 is stretched to match the other dimension.\n",
        "4. Error: If at any point the dimensions are not compatible, a ValueError is raised."
      ],
      "metadata": {
        "id": "PA4_EfWd97D3"
      }
    },
    {
      "cell_type": "markdown",
      "source": [
        "3. What is a Pandas DataFrame?\n",
        "-> A Pandas DataFrame is a two-dimensional, size-mutable, and potentially heterogeneous tabular data structure with labeled axes (rows and columns). It is similar to a spreadsheet or a SQL table. DataFrames are a fundamental data structure in the Pandas library and are widely used for data manipulation and analysis in Python.\n",
        "\n",
        "Here are some key characteristics of a Pandas DataFrame:\n",
        "\n",
        "1. Two-dimensional: Data is organized in rows and columns.\n",
        "Labeled axes: Both rows and columns have labels (index and column names).\n",
        "2. Heterogeneous: Different columns can store different data types (e.g., integers, floats, strings, boolean values).\n",
        "3. Size-mutable: You can add or remove rows and columns.\n",
        "4. Tabular data: It's ideal for storing and working with structured data.\n",
        "\n",
        "DataFrames provide a rich set of methods for various data operations, including:\n",
        "\n",
        "  *  Selecting, adding, and dropping columns and rows.\n",
        "  *  Handling missing data.\n",
        "  * Performing arithmetic operations on data.\n",
        "  * Merging and joining DataFrames.\n",
        "  * Grouping and aggregating data.\n",
        "  * Time series analysis."
      ],
      "metadata": {
        "id": "eZlOkmNM_NxR"
      }
    },
    {
      "cell_type": "markdown",
      "source": [
        "4. Explain the use of the groupby() method in Pandas.\n",
        "-> The groupby() method in Pandas is used for grouping data based on one or more criteria and then applying a function to each group. This process is often referred to as \"split-apply-combine\".\n",
        "\n",
        "Here's a breakdown of the process:\n",
        "\n",
        "1. Splitting: The data is split into groups based on the specified key(s). This key can be a column name, a list of column names, a function, or a dictionary.\n",
        "\n",
        "2. Applying: A function is applied to each individual group. This function can be an aggregation function (like sum(), mean(), count()), a transformation function (like applying a custom function to each element in a group), or a filtration function (like selecting data based on group properties).\n",
        "\n",
        "3. Combining: The results from each group's applied function are combined back into a single Pandas object (usually a DataFrame or Series), with an index reflecting the grouping.\n",
        "\n",
        "The groupby() method is incredibly powerful for analyzing data by categories, calculating summary statistics for different groups, and performing operations that depend on the group membership of data points. You can specify the grouping criteria using the by parameter, which can be a single column, a list of columns, or a function."
      ],
      "metadata": {
        "id": "LajbRMBnAWYM"
      }
    },
    {
      "cell_type": "markdown",
      "source": [
        "5. A Why is Seaborn preferred for statistical visualizations?\n",
        "-> Seaborn is often preferred for statistical visualizations because it provides a high-level interface for drawing attractive and informative statistical graphics [1]. It is built on top of Matplotlib and integrates closely with Pandas data structures.\n",
        "\n",
        "Here's why Seaborn is a good choice for statistical visualizations:\n",
        "\n",
        "* Simplified Syntax: Seaborn makes it easier to create complex statistical plots with fewer lines of code compared to Matplotlib.\n",
        "* Aesthetically Pleasing Defaults: Seaborn's default plot styles are generally more visually appealing and professional-looking.\n",
        "* Built-in Statistical Functions: Seaborn includes functions for automatically calculating and visualizing statistical relationships within your data, such as regression plots, distribution plots, and categorical plots.\n",
        "* Integration with Pandas: Seaborn works seamlessly with Pandas DataFrames, allowing you to easily plot data directly from your DataFrame.\n",
        "* Support for Complex Plots: Seaborn provides support for creating various types of statistical plots like heatmaps, violin plots, swarm plots, and more, which are often used in data analysis."
      ],
      "metadata": {
        "id": "nQs5TpusEiIr"
      }
    },
    {
      "cell_type": "markdown",
      "source": [
        "6. What are the differences between NumPy arrays and Python lists?\n",
        "-> Here are the differences between NumPy arrays and Python lists:\n",
        "\n",
        "* Data Type: NumPy arrays are designed to store homogeneous data (all elements are of the same type), while Python lists can store heterogeneous data (elements of different types).\n",
        "* Performance: NumPy arrays are significantly faster than Python lists for numerical operations, especially on large datasets. This is because NumPy arrays are implemented in C and are optimized for numerical computations.\n",
        "* Memory Consumption: NumPy arrays consume less memory compared to Python lists for the same amount of data, especially for numerical data.\n",
        "* Functionality: NumPy arrays provide a wide range of mathematical functions and operations that are not available in standard Python lists, such as element-wise operations, linear algebra functions, Fourier transforms, etc.\n",
        "* Size Mutability: Python lists are dynamically sized and can be easily modified (add, remove elements), while NumPy arrays are fixed-size after creation. Resizing a NumPy array creates a new array.\n",
        "* Broadcasting: NumPy arrays support broadcasting, which allows operations on arrays of different shapes under certain conditions. This feature is not available in Python lists.\n",
        "\n",
        "In summary, NumPy arrays are preferred for numerical computations and working with large datasets due to their performance, memory efficiency, and extensive mathematical functions, while Python lists are more general-purpose and flexible for storing heterogeneous data and dynamic resizing."
      ],
      "metadata": {
        "id": "wZCdpLfPFRcw"
      }
    },
    {
      "cell_type": "markdown",
      "source": [
        "7.  What is a heatmap, and when should it be used?\n",
        "-> A heatmap is a graphical representation of data where the individual values contained in a matrix are represented as colors. It is often used to visualize the correlation between different variables in a dataset or to show the intensity of a phenomenon across two dimensions.\n",
        "\n",
        "Here's when a heatmap should be used:\n",
        "\n",
        "* Visualizing Correlation Matrices: Heatmaps are excellent for displaying correlation matrices, where each cell's color intensity represents the strength and direction of the correlation between two variables. This makes it easy to identify highly correlated variables.\n",
        "* Showing Data Density or Intensity: You can use heatmaps to show the intensity of a value across two categories. For example, visualizing the number of sales per product per region, or the website traffic per hour per day. The color intensity in each cell would correspond to the count or value.\n",
        "* Identifying Patterns in Gridded Data: If your data is naturally structured in a grid, like in a geographical area divided into cells, a heatmap can effectively show the variation of a variable across that area.\n",
        "* Comparing Values Across Two Dimensions: Heatmaps provide a concise way to compare values across two categorical variables. For instance, you could use a heatmap to visualize the performance of different employees on different tasks.\n",
        "In essence, a heatmap is a powerful tool for revealing patterns, correlations, and variations in data when you have two main dimensions to consider."
      ],
      "metadata": {
        "id": "sN3h1zOngvr1"
      }
    },
    {
      "cell_type": "markdown",
      "source": [
        "8. What does the term “vectorized operation” mean in NumPy?\n",
        "-> In NumPy, a \"vectorized operation\" refers to applying mathematical operations on entire arrays rather than on individual elements one by one using explicit loops.\n",
        "\n",
        "Here's what that means and why it's important:\n",
        "\n",
        "* Element-wise Operations: When you perform an operation on NumPy arrays, the operation is applied to each element of the array simultaneously. For example, adding two NumPy arrays a and b (a + b) will add the corresponding elements of a and b to produce a new array with the results.\n",
        "\n",
        "* Performance: Vectorized operations are significantly faster and more memory-efficient than using Python loops to achieve the same results. This is because NumPy's vectorized operations are implemented in C, which allows them to take advantage of optimizations and execute much more quickly, especially on large datasets.\n",
        "\n",
        "* Concise Code: Vectorized operations lead to more concise and readable code because you don't need to write explicit for loops for element-wise operations.\n",
        "\n",
        "In summary, vectorized operations in NumPy allow you to perform operations on entire arrays efficiently, leading to better performance and cleaner code compared to using traditional Python loops for element-wise calculations."
      ],
      "metadata": {
        "id": "wOf68ac7j_v9"
      }
    },
    {
      "cell_type": "markdown",
      "source": [
        "9. How does Matplotlib differ from Plotly?\n",
        "->  Matplotlib and Plotly are both popular Python libraries for data visualization, but they differ in key aspects:\n",
        "\n",
        "* Interactivity: Plotly excels at creating interactive plots. These plots allow users to hover over data points to see values, zoom in and out, and toggle data series on and off. Matplotlib primarily generates static plots, which are not interactive.\n",
        "* Output: Matplotlib is known for generating static plots quickly and directly in environments like Jupyter Notebooks. Plotly generates interactive plots that can be embedded in various formats and are suitable for web-based dashboards and applications.\n",
        "* Complexity for Interactivity: Creating interactive elements with Matplotlib can be more complex and often requires additional libraries or code. Plotly is designed with interactivity in mind, making it relatively straightforward to create engaging visualizations.\n",
        "* Use Cases: Matplotlib is often preferred for quick data exploration and creating static plots for publications or reports. Plotly is well-suited for creating dashboards, web visualizations, and plots where user interaction is desired."
      ],
      "metadata": {
        "id": "ZZYv46LHltwz"
      }
    },
    {
      "cell_type": "markdown",
      "source": [
        "10.  What is the significance of hierarchical indexing in Pandas?\n",
        "-> Hierarchical indexing, also known as multi-indexing, is significant in Pandas because it allows you to have multiple index levels on an axis. This provides a way to work with data that has more than one key for indexing.\n",
        "\n",
        "Here's why it's significant:\n",
        "\n",
        "* Handling Multi-dimensional Data: Hierarchical indexing enables you to represent and manipulate data that has natural groupings or categories across multiple levels. This is particularly useful for complex datasets.\n",
        "* Improved Data Organization: It allows for a more structured and organized way to store and access data with multiple levels of categorization, making it easier to analyze.\n",
        "* Enhanced Data Selection and Manipulation: With multiple index levels, you can easily select subsets of data based on various combinations of index values. This simplifies tasks like slicing, dicing, and aggregating data across different levels.\n",
        "* Facilitates Grouped Analysis: Hierarchical indexing often goes hand-in-hand with grouping operations, allowing you to perform calculations and analysis on specific subgroups defined by the multi-level index.\n",
        "* Reshaping Data: MultiIndex can be used in conjunction with operations like stack and unstack to reshape data between wide and long formats, which is crucial for data transformation and analysis."
      ],
      "metadata": {
        "id": "VLKr7xS7wFhj"
      }
    },
    {
      "cell_type": "markdown",
      "source": [
        "11. What is the role of Seaborn’s pairplot() function?\n",
        "-> The pairplot() function in Seaborn is used to create a grid of pairwise relationships in a dataset.\n",
        "\n",
        "Here's its role:\n",
        "\n",
        "* Visualize Pairwise Relationships: It generates scatter plots for each pair of numerical variables in a DataFrame. This helps to quickly visualize the relationship between different features.\n",
        "* Show Distributions: By default, it plots a univariate distribution (usually a histogram or a kernel density estimate) of each variable on the diagonal. This gives an idea of the distribution of each individual feature. [1] mentions that it's possible to force marginal histograms.\n",
        "* Identify Patterns and Correlations: By examining the scatter plots, you can visually identify potential linear or non-linear relationships, clusters, and outliers between variables.\n",
        "* Facilitate Exploratory Data Analysis: pairplot() is a powerful tool for the initial stages of data analysis, allowing you to get a quick overview of the data's structure and relationships.\n",
        "* Categorical Separation: You can use the hue parameter to color the points based on a categorical variable, which helps to see how the relationships and distributions differ across categories.\n",
        "\n",
        "In essence, pairplot() provides a comprehensive view of the relationships and distributions within a dataset, making it easier to understand the data's structure and identify potential insights."
      ],
      "metadata": {
        "id": "i0KodgH5xJfg"
      }
    },
    {
      "cell_type": "markdown",
      "source": [
        "12. What is the purpose of the describe() function in Pandas.\n",
        "-> The describe() function in Pandas is used to generate descriptive statistics of a DataFrame or Series. Its purpose is to provide a quick summary of the central tendency, dispersion, and shape of the distribution of your data.\n",
        "\n",
        "Here's what it does:\n",
        "\n",
        "* Analyzes different data types: describe() works on both numerical and object (string) columns. The output varies depending on the data type.\n",
        "* Numerical Data: For numerical columns, it calculates and displays:\n",
        "\n",
        "  * count: The number of non-null values.\n",
        "  * mean: The average value.\n",
        "  * std: The standard deviation, which measures the spread of the data.\n",
        "  * min: The minimum value.\n",
        "  * 25%, 50%, 75%: The quartiles (25th, 50th (median), and 75th percentiles).\n",
        "  * max: The maximum value.\n",
        "* Object (String) Data: For object or categorical columns, it calculates and displays:\n",
        "\n",
        "  * count: The number of non-null values.\n",
        "  * unique: The number of unique values.\n",
        "  * top: The most frequent value.\n",
        "  * freq: The frequency of the most frequent value.\n",
        "* Mixed Data Types: If the DataFrame contains columns with mixed data types, describe() will analyze each type separately."
      ],
      "metadata": {
        "id": "AgfpuJzEy2iF"
      }
    },
    {
      "cell_type": "markdown",
      "source": [
        "13. Why is handling missing data important in Pandas?\n",
        "-> Handling missing data is crucial in Pandas for several reasons:\n",
        "\n",
        "1. Impact on Analysis: Missing data can significantly distort the results of your analysis. Many statistical methods and machine learning algorithms cannot handle missing values directly and will either produce errors or provide misleading results if missing data is not addressed.\n",
        "2. Maintaining Data Integrity: Ignoring missing data can lead to an incomplete and inaccurate representation of your dataset. Properly handling missing values ensures that your data remains reliable and reflects the true underlying patterns.\n",
        "3. Preventing Errors in Calculations: Operations like calculating the mean, sum, or standard deviation can be affected by missing values. Depending on how missing data is treated, these calculations might be inaccurate or impossible to perform.\n",
        "4.  Algorithm Requirements: Most machine learning algorithms require complete datasets. You need to handle missing values before feeding the data into these algorithms.\n",
        "5. Visualizations: Missing data can also impact visualizations, potentially misrepresenting the distribution or relationships within your data.\n",
        "6. Decision Making: Data analysis is often used to inform decision-making. If your analysis is based on incomplete or inaccurate data due to unhandled missing values, it can lead to poor or incorrect decisions.\n",
        "\n",
        "In essence, handling missing data is a fundamental step in data cleaning and preprocessing to ensure the accuracy, reliability, and usability of your data for analysis, modeling, and visualization. Pandas provides various methods and functions to identify, visualize, and handle missing data effectively."
      ],
      "metadata": {
        "id": "gsuRxUE317eP"
      }
    },
    {
      "cell_type": "markdown",
      "source": [
        "14.  What are the benefits of using Plotly for data visualization?\n",
        "->  Using Plotly for data visualization offers several benefits:\n",
        "\n",
        "* Interactivity: Plotly is known for creating interactive plots. These plots allow users to hover over data points to see values, zoom in and out, and toggle data series on and off. This interactivity is a key advantage over static plots.\n",
        "* Ease of Use: With libraries like Plotly Express, you can generate complex plots with minimal code, making the plotting process simpler and more efficient.\n",
        "* Web Integration: Plotly generates interactive plots that can be embedded in various formats and are suitable for web-based dashboards and applications. This makes it easy to share your visualizations online .\n",
        "* Rich Plot Types: Plotly supports a wide range of plot types, including scatter plots, line plots, bar charts, 3D plots, and more, allowing you to create diverse and informative visualizations.\n",
        "* Aesthetics: Plotly plots generally have a clean and modern aesthetic by default.\n",
        "* Integration with Pandas: Plotly integrates well with Pandas DataFrames, allowing you to easily plot data directly from your DataFrame."
      ],
      "metadata": {
        "id": "u0vkNhsG5JUp"
      }
    },
    {
      "cell_type": "markdown",
      "source": [
        "15. How does NumPy handle multidimensional arrays?\n",
        "-> NumPy handles multidimensional arrays through its core data structure, the ndarray (N-dimensional array). This structure is designed for efficient storage and manipulation of homogeneous data (all elements of the same type) arranged in a grid of values.\n",
        "\n",
        "Here's how NumPy handles multidimensional arrays:\n",
        "\n",
        "* ndarray object: The ndarray is the fundamental object in NumPy that represents a multidimensional, homogeneous array of fixed-size items. It consists of a contiguous block of memory that stores the array's elements and metadata about the array, such as its shape, data type, and strides.\n",
        "* Shape: The shape attribute of a NumPy array is a tuple of integers that indicates the size of the array in each dimension. For example, a 2x3 matrix would have a shape of (2, 3).\n",
        "* Dimensions (axes): Each dimension of the array is referred to as an axis. For a 2D array, the first axis represents rows and the second axis represents columns.\n",
        "* Indexing and Slicing: NumPy provides powerful and flexible ways to index and slice multidimensional arrays to access specific elements, rows, columns, or subarrays. This is done using square brackets and can involve single indices, slices, or boolean arrays.\n",
        "* Broadcasting: NumPy's broadcasting mechanism allows for arithmetic operations between arrays of different shapes under certain conditions. This effectively stretches or duplicates the smaller array to match the shape of the larger array for the operation, without actually creating copies of the data. This is a key feature for performing operations on arrays of different dimensions efficiently.\n",
        "* Vectorized Operations: NumPy enables vectorized operations, meaning that mathematical operations are applied element-wise on entire arrays rather than requiring explicit loops. This is significantly faster and more memory-efficient than using standard Python lists and loops, especially for large datasets. NumPy's core is implemented in C, which contributes to this performance advantage."
      ],
      "metadata": {
        "id": "dGxdfvr27bpB"
      }
    },
    {
      "cell_type": "markdown",
      "source": [
        "16.  What is the role of Bokeh in data visualization?\n",
        "-> Based on the search results , the role of Bokeh in data visualization is to build powerful data applications, specifically by enabling the creation of rich, interactive visualizations in the browser.\n",
        "\n",
        "Here's a breakdown of its role:\n",
        "\n",
        "* Interactive Visualizations: Bokeh focuses on creating interactive plots that can be displayed in web browsers. These visualizations allow users to interact with the data, for example, through zooming, panning, and hovering over data points.\n",
        "* Web Integration: Bokeh is designed to integrate well with web applications. This makes it suitable for building dashboards and interactive reports that can be accessed through a web browser.\n",
        "* Bokeh Server: The Bokeh server plays a crucial role in enabling interactive applications. It allows you to connect Python code with interactive visualizations in the browser, enabling features like widgets, plot tools, and UI events that can trigger Python callbacks. This means that user interactions in the browser can trigger computations or data updates in Python, which are then reflected back in the visualization.\n",
        "* Widgets and Tools: Bokeh provides a wide array of widgets and plot tools that enhance the interactivity of the visualizations. These tools allow users to explore the data in various ways.\n",
        "\n",
        "In essence, Bokeh's role is to provide a library for creating interactive, web-ready data visualizations, bridging the gap between Python data analysis and interactive presentation in a web browser, often through the use of the Bokeh server."
      ],
      "metadata": {
        "id": "w6b5gkEx_zvI"
      }
    },
    {
      "cell_type": "markdown",
      "source": [
        "17. Explain the difference between apply() and map() in Pandas?\n",
        "->\n",
        " **map**():\n",
        "\n",
        "* Purpose: Primarily used to substitute each value in a Series with another value. It's often used for element-wise transformations or for mapping values from one set to another (like categorical encoding).\n",
        "* Input: Takes a dictionary, a Series, or a function as input.\n",
        "  * If a dictionary or Series is provided, map() uses the input to replace values in the Series.\n",
        "  * If a function is provided, map() applies the function to each element in the Series.\n",
        "* Output: Returns a new Series with the transformed values.\n",
        "* Usage Context: Typically used on a Pandas Series.\n",
        "\n",
        "**apply**():\n",
        "\n",
        "* Purpose: More general and versatile. It can apply a function along an axis of a DataFrame or Series (either column-wise or row-wise). It's used for applying more complex functions that operate on a whole Series (when applied to a Series) or on entire rows or columns (when applied to a DataFrame).\n",
        "* Input: Takes a function as input.\n",
        "* Output: The output can vary depending on the function being applied. It can return a Series, a DataFrame, or a scalar value.\n",
        "* Usage Context: Can be used on both Pandas DataFrames and Series.\n",
        "  * When used on a DataFrame, you specify the axis parameter (axis=0 for columns, axis=1 for rows) to **indicate** whether the function should be applied to each column or each row.\n",
        "  * When used on a Series, it applies the function to the Series itself.\n",
        "\n",
        "**Key** **Differences** **Summarized**:\n",
        "\n",
        "map() is specifically for element-wise substitution or transformation on a Series.\n",
        "apply() is more general and can apply functions to a Series or to rows/columns of a DataFrame.\n",
        "map() is generally faster for element-wise operations than apply() on a Series.\n",
        "apply() is used for more complex operations that might involve multiple elements within a row or column.\n",
        "Example:"
      ],
      "metadata": {
        "id": "UX3k5l8pDCMk"
      }
    },
    {
      "cell_type": "code",
      "source": [
        "import pandas as pd\n",
        "\n",
        "# Example Series\n",
        "s = pd.Series([1, 2, 3, 4])\n",
        "\n",
        "# Using map() for element-wise transformation\n",
        "# Double each element\n",
        "s_mapped = s.map(lambda x: x * 2)\n",
        "print(\"Series after map():\\n\", s_mapped)\n",
        "\n",
        "# Using apply() on a Series (behaves similarly to map for simple functions)\n",
        "s_applied = s.apply(lambda x: x * 2)\n",
        "print(\"\\nSeries after apply():\\n\", s_applied)\n",
        "\n",
        "# Example DataFrame\n",
        "df = pd.DataFrame({\n",
        "    'col1': [1, 2, 3],\n",
        "    'col2': [4, 5, 6]\n",
        "})\n",
        "\n",
        "# Using apply() on a DataFrame (column-wise)\n",
        "# Calculate the sum of each column\n",
        "df_col_sum = df.apply(sum, axis=0)\n",
        "print(\"\\nDataFrame after apply() (column-wise sum):\\n\", df_col_sum)\n",
        "\n",
        "# Using apply() on a DataFrame (row-wise)\n",
        "# Calculate the sum of each row\n",
        "df_row_sum = df.apply(sum, axis=1)\n",
        "print(\"\\nDataFrame after apply() (row-wise sum):\\n\", df_row_sum)"
      ],
      "metadata": {
        "colab": {
          "base_uri": "https://localhost:8080/"
        },
        "id": "DoF7ghHxGNS1",
        "outputId": "81270218-2b78-42a5-f95a-815bcbbe856a"
      },
      "execution_count": null,
      "outputs": [
        {
          "output_type": "stream",
          "name": "stdout",
          "text": [
            "Series after map():\n",
            " 0    2\n",
            "1    4\n",
            "2    6\n",
            "3    8\n",
            "dtype: int64\n",
            "\n",
            "Series after apply():\n",
            " 0    2\n",
            "1    4\n",
            "2    6\n",
            "3    8\n",
            "dtype: int64\n",
            "\n",
            "DataFrame after apply() (column-wise sum):\n",
            " col1     6\n",
            "col2    15\n",
            "dtype: int64\n",
            "\n",
            "DataFrame after apply() (row-wise sum):\n",
            " 0    5\n",
            "1    7\n",
            "2    9\n",
            "dtype: int64\n"
          ]
        }
      ]
    },
    {
      "cell_type": "markdown",
      "source": [
        "18. What are some advanced features of NumPy?\n",
        "-> NumPy, while fundamental for basic array operations, also offers several advanced features that are powerful for more complex numerical computing. Here are some of them:\n",
        "\n",
        "* Broadcasting: This mechanism allows NumPy to perform operations on arrays of different shapes and sizes. It effectively \"stretches\" or \"duplicates\" the smaller array to match the dimensions of the larger array for the operation, without actually creating copies of the data. This is a key feature for efficient element-wise operations on arrays of varying shapes.\n",
        "\n",
        "* Structured Arrays: NumPy allows you to create arrays with structured data types, where each element can be a collection of fields of different data types. This is useful for working with tabular data or data with named columns, similar to a database table. You can access data by field names.\n",
        "\n",
        "* Memory Mapping: NumPy provides the capability to memory-map arrays to disk files. This allows you to work with very large datasets that cannot fit entirely into memory by accessing parts of the array directly from the file.\n",
        "\n",
        "* Advanced Indexing and Slicing: Beyond basic integer and slice indexing, NumPy offers advanced indexing techniques using boolean arrays or integer arrays. This allows for flexible selection of arbitrary elements or subarrays based on conditions or specific indices.\n",
        "\n",
        "* Linear Algebra Module (numpy.linalg): NumPy includes a comprehensive module for linear algebra operations, such as matrix multiplication, inversions, determinants, eigenvalues, and singular value decomposition. This is essential for many scientific and engineering applications.\n",
        "\n",
        "* Fourier Transforms (numpy.fft): NumPy provides a module for performing Fourier transforms, which are widely used in signal processing, image processing, and other fields to analyze the frequency components of data.\n",
        "\n",
        "* Random Number Generation (numpy.random): While basic random number generation is available, NumPy's random module offers a wide range of functions for generating numbers from various probability distributions, which is crucial for simulations and statistical analysis.\n",
        "\n",
        "* Universal Functions (ufuncs): NumPy provides universal functions (ufuncs) which are functions that operate element-wise on arrays. These functions are implemented in C and are highly optimized for performance. Many standard mathematical operations in NumPy are implemented as ufuncs.\n",
        "\n",
        "* Integration with C/C++/Fortran: NumPy's underlying implementation is in C, and it provides mechanisms to interface with code written in C, C++, and Fortran. This allows for further performance optimization by offloading computationally intensive tasks to lower-level code.\n",
        "\n",
        "These advanced features make NumPy a powerful tool for numerical computation, enabling efficient handling of large datasets and complex mathematical operations."
      ],
      "metadata": {
        "id": "bFIpJciXGdFJ"
      }
    },
    {
      "cell_type": "markdown",
      "source": [
        "19. How does Pandas simplify time series analysis?\n",
        "-> Pandas significantly simplifies time series analysis by providing specialized data structures and functions designed to handle time-indexed data efficiently. Here's how:\n",
        "\n",
        "* DatetimeIndex: Pandas introduces the DatetimeIndex, a specialized index that stores datetime objects. This is fundamental for time series data as it allows for easy time-based indexing and selection [1, 2]. You can quickly select data based on dates, times, or ranges.\n",
        "* to_datetime() function: Pandas provides the to_datetime() function to easily convert strings or other objects into datetime objects. This is a crucial step in preparing your data for time series analysis.\n",
        "* Time-based indexing and slicing: With a DatetimeIndex, you can efficiently slice and select data using dates and times. For example, you can easily select all data for a specific year, month, or a range of dates.\n",
        "* Resampling: Pandas offers powerful resampling capabilities, allowing you to change the frequency of your time series data. You can upsample (increase frequency) or downsample (decrease frequency) your data, which is essential for tasks like aggregation or interpolation.\n",
        "* Frequency handling: Pandas allows you to associate a frequency with your time series data, making it easier to perform operations that depend on the time interval between data points.\n",
        "* Time zone handling: Pandas provides robust support for handling time zones, which is important when working with time series data from different regions.\n",
        "* Shifting and lagging: You can easily shift or lag your time series data to compare values from different time periods. This is useful for analyzing trends, seasonality, and autocorrelations.\n",
        "* Rolling and expanding windows: Pandas supports rolling and expanding window operations, allowing you to compute statistics (e.g., mean, standard deviation) over a moving or expanding window of data. This is valuable for smoothing data, identifying trends, and calculating rolling metrics.\n",
        "* Handling missing data: Pandas provides various methods for handling missing data in time series, such as interpolation or filling forward/backward.\n",
        "By integrating these features and functionalities, Pandas makes it much easier to perform common time series operations, from data loading and cleaning to analysis and visualization. [2] highlights the use of DatetimeIndex when working with time series data."
      ],
      "metadata": {
        "id": "hfQ-OSbHHW7i"
      }
    },
    {
      "cell_type": "markdown",
      "source": [
        "20.  What is the role of a pivot table in Pandas?\n",
        "-> The role of a pivot table in Pandas is to summarize and analyze data in a DataFrame by reorganizing it into a structured table format. It's a powerful tool for creating spreadsheet-style summaries of your data.\n",
        "\n",
        "Here's a breakdown of the key aspects of a pivot table in Pandas:\n",
        "\n",
        "* Reshaping Data: Pivot tables allow you to reshape your data. You take specific columns from your DataFrame and use them to define the index (rows) and columns of the new pivot table.\n",
        "* Aggregation: Pivot tables are commonly used for aggregation. You specify one or more columns (called \"values\") that you want to aggregate, and a function (like sum, mean, count, etc.) to perform the aggregation on those values.\n",
        "* Creating Summaries: By defining rows, columns, and values, you create a summary table that shows how the aggregated values vary across the categories defined by the index and columns. This makes it easy to get insights into your data.\n",
        "* Multi-level Indexing: The resulting pivot table often has hierarchical indexes (MultiIndex) on the index and/or columns if you use multiple columns for the index or columns of the pivot table.This helps organize the summarized data.\n",
        "* Easy Analysis: Pivot tables make it easier to perform various analyses, such as comparing values across different categories, identifying trends, and summarizing key metrics.\n",
        "\n",
        "In essence, a pivot table in Pandas is a flexible tool for transforming and summarizing your data, allowing you to gain valuable insights by looking at your data from different perspectives. Mentions that pivot_table() can be used to create spreadsheet-style pivot tables."
      ],
      "metadata": {
        "id": "inWSudJmJrtA"
      }
    },
    {
      "cell_type": "markdown",
      "source": [
        "21. Why is NumPy’s array slicing faster than Python’s list slicing?\n",
        "-> NumPy's array slicing is faster than Python's list slicing primarily due to how NumPy arrays are implemented and managed in memory compared to Python lists. Here's a breakdown of the reasons:\n",
        "\n",
        "* Homogeneous Data Type: NumPy arrays are designed to store homogeneous data, meaning all elements in the array are of the same data type. This allows NumPy to store the data in a contiguous block of memory.\n",
        "* Contiguous Memory Allocation: Because of the homogeneous data type, NumPy can allocate a single, contiguous block of memory for the entire array. This is a significant advantage for slicing. When you slice a NumPy array, NumPy can simply create a \"view\" into this contiguous block of memory without copying the data. This is very efficient.\n",
        "* C Implementation: NumPy's core operations, including slicing, are implemented in C. C is a lower-level language that allows for more direct memory access and manipulation, which contributes to better performance.\n",
        "* Optimized for Numerical Operations: NumPy is specifically built for numerical computations. Its design and implementation are optimized for mathematical and array operations, and slicing is a fundamental part of these operations.\n",
        "\n",
        "In contrast, Python lists can store heterogeneous data (elements of different data types). This means that the elements of a Python list are not necessarily stored in a contiguous block of memory. Each element in a Python list is a separate Python object, and the list itself stores references (pointers) to these objects.\n",
        "\n",
        "When you slice a Python list, Python often needs to create a new list and copy the references to the elements from the original list into the new list. This copying process adds overhead and makes list slicing slower than NumPy array slicing, especially for large lists.\n",
        "\n",
        "In summary, the speed difference in slicing comes down to memory management and implementation details. NumPy's contiguous memory allocation for homogeneous data and its C implementation allow for efficient views into the array data during slicing, whereas Python lists, due to their flexibility in handling heterogeneous data, often involve copying references, which is less performant for slicing large datasets."
      ],
      "metadata": {
        "id": "aMnAI-rFLwCh"
      }
    },
    {
      "cell_type": "markdown",
      "source": [
        "22. What are some common use cases for Seaborn?\n",
        "-> Seaborn is a powerful library for creating statistical visualizations in Python. Due to its high-level interface and integration with Pandas, it's commonly used in various data analysis and exploration scenarios. Here are some common use cases for Seaborn:\n",
        "\n",
        "* Visualizing Relationships Between Variables: Seaborn is excellent for exploring the relationships between different variables in a dataset. This includes creating scatter plots to show the relationship between two continuous variables, or line plots to visualize trends over time or across a continuous variable.\n",
        "\n",
        "* Analyzing Data Distributions: Seaborn provides various plot types to understand the distribution of a single variable or the distribution of a variable conditioned on categories. Histograms , density plots , and box plots are commonly used for this purpose.\n",
        "\n",
        "* Comparing Distributions Across Categories: Seaborn makes it easy to compare the distributions of a numerical variable across different categories using plots like box plots, violin plots,or swarm plots.\n",
        "\n",
        "* Visualizing Categorical Data: Seaborn offers specific plot types for visualizing relationships and distributions involving categorical variables, such as bar plots , count plots, and categorical scatter plots.\n",
        "\n",
        "* Creating Heatmaps: Heatmaps are a common use case for Seaborn, particularly for visualizing correlation matrices or showing the intensity of a phenomenon across two dimensions.\n",
        "\n",
        "* Exploring Pairwise Relationships: The pairplot() function is frequently used to visualize the pairwise relationships between all numerical variables in a dataset, providing a quick overview of potential correlations and patterns.\n",
        "\n",
        "* Adding Regression Lines to Plots: Seaborn can easily add regression lines to scatter plots, allowing you to visualize the linear relationship between two variables and understand the trend.\n",
        "\n",
        "* Customizing Plot Aesthetics: Seaborn provides control over the appearance of plots through themes, color palettes, and other customization options, making it easy to create visually appealing graphics for presentations and reports.\n",
        "\n",
        "In essence, Seaborn is widely used for exploratory data analysis, understanding the structure of data, identifying patterns and relationships, and creating informative and aesthetically pleasing statistical visualizations."
      ],
      "metadata": {
        "id": "ARo_0eJZOGvV"
      }
    },
    {
      "cell_type": "markdown",
      "source": [
        "**PRACTICAL** **QUESTIONS**"
      ],
      "metadata": {
        "id": "TaCHOf0-QJDf"
      }
    },
    {
      "cell_type": "code",
      "source": [
        "#1. How do you create a 2D NumPy array and calculate the sum of each row?\n",
        "\n",
        "import numpy as np\n",
        "my_2d_array = np.array([[1, 2, 3], [4, 5, 6], [7, 8, 9]])\n",
        "print(\"Original 2D array:\\n\", my_2d_array)\n",
        "row_sums = my_2d_array.sum(axis=1)\n",
        "print(\"\\nSum of each row:\", row_sums)\n"
      ],
      "metadata": {
        "id": "B6NNJesSQORR",
        "colab": {
          "base_uri": "https://localhost:8080/"
        },
        "outputId": "e4bcd532-5ca4-49b0-aafd-669590f7c38a"
      },
      "execution_count": null,
      "outputs": [
        {
          "output_type": "stream",
          "name": "stdout",
          "text": [
            "Original 2D array:\n",
            " [[1 2 3]\n",
            " [4 5 6]\n",
            " [7 8 9]]\n",
            "\n",
            "Sum of each row: [ 6 15 24]\n"
          ]
        }
      ]
    },
    {
      "cell_type": "code",
      "source": [
        "#2. Write a Pandas script to find the mean of a specific column in a DataFrame?\n",
        "\n",
        "import pandas as pd\n",
        "\n",
        "# Create a sample DataFrame\n",
        "data = {'col1': [10, 20, 30, 40],\n",
        "        'col2': [100, 200, 300, 400]}\n",
        "df = pd.DataFrame(data)\n",
        "\n",
        "print(\"Original DataFrame:\\n\", df)\n",
        "\n",
        "# Calculate the mean of 'col1'\n",
        "mean_col1 = df['col1'].mean()\n",
        "\n",
        "print(\"\\nMean of col1:\", mean_col1)\n"
      ],
      "metadata": {
        "colab": {
          "base_uri": "https://localhost:8080/"
        },
        "id": "5iwoQrYw_91x",
        "outputId": "32583eb4-d91c-44cd-9c69-927a93c1c54c"
      },
      "execution_count": null,
      "outputs": [
        {
          "output_type": "stream",
          "name": "stdout",
          "text": [
            "Original DataFrame:\n",
            "    col1  col2\n",
            "0    10   100\n",
            "1    20   200\n",
            "2    30   300\n",
            "3    40   400\n",
            "\n",
            "Mean of col1: 25.0\n"
          ]
        }
      ]
    },
    {
      "cell_type": "code",
      "source": [
        "#3. Create a scatter plot using Matplotlib?\n",
        "\n",
        "import matplotlib.pyplot as plt\n",
        "import numpy as np\n",
        "\n",
        "# Generate some sample data\n",
        "x = np.random.rand(50)\n",
        "y = np.random.rand(50)\n",
        "\n",
        "# Create a scatter plot\n",
        "plt.scatter(x, y)\n",
        "\n",
        "# Add labels and title\n",
        "plt.xlabel(\"X-axis Label\")\n",
        "plt.ylabel(\"Y-axis Label\")\n",
        "plt.title(\"Simple Scatter Plot\")\n",
        "\n",
        "# Show the plot\n",
        "plt.show()\n"
      ],
      "metadata": {
        "colab": {
          "base_uri": "https://localhost:8080/",
          "height": 472
        },
        "id": "ErI-j0YzBDaU",
        "outputId": "880587d1-9117-4d23-ac73-69e9acc43e93"
      },
      "execution_count": null,
      "outputs": [
        {
          "output_type": "display_data",
          "data": {
            "text/plain": [
              "<Figure size 640x480 with 1 Axes>"
            ],
            "image/png": "[encoded data removed]"
          },
          "metadata": {}
        }
      ]
    },
    {
      "cell_type": "code",
      "source": [
        "#4. How do you calculate the correlation matrix using Seaborn and visualize it with a heatmap?\n",
        "\n",
        "import seaborn as sns\n",
        "import pandas as pd\n",
        "import numpy as np\n",
        "import matplotlib.pyplot as plt\n",
        "\n",
        "# Create a sample DataFrame\n",
        "data = {'col1': np.random.rand(50),\n",
        "        'col2': np.random.rand(50),\n",
        "        'col3': np.random.rand(50)}\n",
        "df = pd.DataFrame(data)\n",
        "\n",
        "# Calculate the correlation matrix\n",
        "correlation_matrix = df.corr()\n",
        "\n",
        "print(\"Correlation Matrix:\\n\", correlation_matrix)\n",
        "\n",
        "# Visualize the correlation matrix with a heatmap\n",
        "plt.figure(figsize=(8, 6)) # Adjust figure size as needed\n",
        "sns.heatmap(correlation_matrix, annot=True, cmap='coolwarm', fmt=\".2f\")\n",
        "plt.title(\"Correlation Matrix Heatmap\")\n",
        "plt.show()\n"
      ],
      "metadata": {
        "colab": {
          "base_uri": "https://localhost:8080/",
          "height": 632
        },
        "id": "FM47TfklC_a3",
        "outputId": "b14f1404-9416-415e-b8d9-c2d007349995"
      },
      "execution_count": null,
      "outputs": [
        {
          "output_type": "stream",
          "name": "stdout",
          "text": [
            "Correlation Matrix:\n",
            "           col1      col2      col3\n",
            "col1  1.000000  0.135940 -0.021122\n",
            "col2  0.135940  1.000000 -0.132843\n",
            "col3 -0.021122 -0.132843  1.000000\n"
          ]
        },
        {
          "output_type": "display_data",
          "data": {
            "text/plain": [
              "<Figure size 800x600 with 2 Axes>"
            ],
            "image/png": "[encoded data removed]"
          },
          "metadata": {}
        }
      ]
    },
    {
      "cell_type": "code",
      "source": [
        "#5. Generate a bar plot using Plotly.\n",
        "\n",
        "import plotly.express as px\n",
        "import pandas as pd\n",
        "\n",
        "# Create a sample DataFrame\n",
        "data = {'Category': ['A', 'B', 'C', 'D'],\n",
        "        'Value': [15, 20, 10, 25]}\n",
        "df = pd.DataFrame(data)\n",
        "\n",
        "# Create a bar plot\n",
        "fig = px.bar(df, x='Category', y='Value', title='Simple Bar Plot')\n",
        "\n",
        "# Show the plot\n",
        "fig.show()"
      ],
      "metadata": {
        "colab": {
          "base_uri": "https://localhost:8080/",
          "height": 542
        },
        "id": "xKXdafazEZ46",
        "outputId": "0688cca5-0eac-41c5-99ec-52f3fcb0fc0d"
      },
      "execution_count": null,
      "outputs": [
        {
          "output_type": "display_data",
          "data": {
            "text/html": [
              "<html>\n",
              "<head><meta charset=\"utf-8\" /></head>\n",
              "<body>\n",
              "    <div>            <script src=\"https://cdnjs.cloudflare.com/ajax/libs/mathjax/2.7.5/MathJax.js?config=TeX-AMS-MML_SVG\"></script><script type=\"text/javascript\">if (window.MathJax && window.MathJax.Hub && window.MathJax.Hub.Config) {window.MathJax.Hub.Config({SVG: {font: \"STIX-Web\"}});}</script>                <script type=\"text/javascript\">window.PlotlyConfig = {MathJaxConfig: 'local'};</script>\n",
              "        <script charset=\"utf-8\" src=\"https://cdn.plot.ly/plotly-2.35.2.min.js\"></script>                <div id=\"932bc40c-f4fa-4dff-a81d-ce82f0117e63\" class=\"plotly-graph-div\" style=\"height:525px; width:100%;\"></div>            <script type=\"text/javascript\">                                    window.PLOTLYENV=window.PLOTLYENV || {};                                    if (document.getElementById(\"932bc40c-f4fa-4dff-a81d-ce82f0117e63\")) {                    Plotly.newPlot(                        \"932bc40c-f4fa-4dff-a81d-ce82f0117e63\",                        [{\"alignmentgroup\":\"True\",\"hovertemplate\":\"Category=%{x}\\u003cbr\\u003eValue=%{y}\\u003cextra\\u003e\\u003c\\u002fextra\\u003e\",\"legendgroup\":\"\",\"marker\":{\"color\":\"#636efa\",\"pattern\":{\"shape\":\"\"}},\"name\":\"\",\"offsetgroup\":\"\",\"orientation\":\"v\",\"showlegend\":false,\"textposition\":\"auto\",\"x\":[\"A\",\"B\",\"C\",\"D\"],\"xaxis\":\"x\",\"y\":[15,20,10,25],\"yaxis\":\"y\",\"type\":\"bar\"}],                        {\"template\":{\"data\":{\"histogram2dcontour\":[{\"type\":\"histogram2dcontour\",\"colorbar\":{\"outlinewidth\":0,\"ticks\":\"\"},\"colorscale\":[[0.0,\"#0d0887\"],[0.1111111111111111,\"#46039f\"],[0.2222222222222222,\"#7201a8\"],[0.3333333333333333,\"#9c179e\"],[0.4444444444444444,\"#bd3786\"],[0.5555555555555556,\"#d8576b\"],[0.6666666666666666,\"#ed7953\"],[0.7777777777777778,\"#fb9f3a\"],[0.8888888888888888,\"#fdca26\"],[1.0,\"#f0f921\"]]}],\"choropleth\":[{\"type\":\"choropleth\",\"colorbar\":{\"outlinewidth\":0,\"ticks\":\"\"}}],\"histogram2d\":[{\"type\":\"histogram2d\",\"colorbar\":{\"outlinewidth\":0,\"ticks\":\"\"},\"colorscale\":[[0.0,\"#0d0887\"],[0.1111111111111111,\"#46039f\"],[0.2222222222222222,\"#7201a8\"],[0.3333333333333333,\"#9c179e\"],[0.4444444444444444,\"#bd3786\"],[0.5555555555555556,\"#d8576b\"],[0.6666666666666666,\"#ed7953\"],[0.7777777777777778,\"#fb9f3a\"],[0.8888888888888888,\"#fdca26\"],[1.0,\"#f0f921\"]]}],\"heatmap\":[{\"type\":\"heatmap\",\"colorbar\":{\"outlinewidth\":0,\"ticks\":\"\"},\"colorscale\":[[0.0,\"#0d0887\"],[0.1111111111111111,\"#46039f\"],[0.2222222222222222,\"#7201a8\"],[0.3333333333333333,\"#9c179e\"],[0.4444444444444444,\"#bd3786\"],[0.5555555555555556,\"#d8576b\"],[0.6666666666666666,\"#ed7953\"],[0.7777777777777778,\"#fb9f3a\"],[0.8888888888888888,\"#fdca26\"],[1.0,\"#f0f921\"]]}],\"heatmapgl\":[{\"type\":\"heatmapgl\",\"colorbar\":{\"outlinewidth\":0,\"ticks\":\"\"},\"colorscale\":[[0.0,\"#0d0887\"],[0.1111111111111111,\"#46039f\"],[0.2222222222222222,\"#7201a8\"],[0.3333333333333333,\"#9c179e\"],[0.4444444444444444,\"#bd3786\"],[0.5555555555555556,\"#d8576b\"],[0.6666666666666666,\"#ed7953\"],[0.7777777777777778,\"#fb9f3a\"],[0.8888888888888888,\"#fdca26\"],[1.0,\"#f0f921\"]]}],\"contourcarpet\":[{\"type\":\"contourcarpet\",\"colorbar\":{\"outlinewidth\":0,\"ticks\":\"\"}}],\"contour\":[{\"type\":\"contour\",\"colorbar\":{\"outlinewidth\":0,\"ticks\":\"\"},\"colorscale\":[[0.0,\"#0d0887\"],[0.1111111111111111,\"#46039f\"],[0.2222222222222222,\"#7201a8\"],[0.3333333333333333,\"#9c179e\"],[0.4444444444444444,\"#bd3786\"],[0.5555555555555556,\"#d8576b\"],[0.6666666666666666,\"#ed7953\"],[0.7777777777777778,\"#fb9f3a\"],[0.8888888888888888,\"#fdca26\"],[1.0,\"#f0f921\"]]}],\"surface\":[{\"type\":\"surface\",\"colorbar\":{\"outlinewidth\":0,\"ticks\":\"\"},\"colorscale\":[[0.0,\"#0d0887\"],[0.1111111111111111,\"#46039f\"],[0.2222222222222222,\"#7201a8\"],[0.3333333333333333,\"#9c179e\"],[0.4444444444444444,\"#bd3786\"],[0.5555555555555556,\"#d8576b\"],[0.6666666666666666,\"#ed7953\"],[0.7777777777777778,\"#fb9f3a\"],[0.8888888888888888,\"#fdca26\"],[1.0,\"#f0f921\"]]}],\"mesh3d\":[{\"type\":\"mesh3d\",\"colorbar\":{\"outlinewidth\":0,\"ticks\":\"\"}}],\"scatter\":[{\"fillpattern\":{\"fillmode\":\"overlay\",\"size\":10,\"solidity\":0.2},\"type\":\"scatter\"}],\"parcoords\":[{\"type\":\"parcoords\",\"line\":{\"colorbar\":{\"outlinewidth\":0,\"ticks\":\"\"}}}],\"scatterpolargl\":[{\"type\":\"scatterpolargl\",\"marker\":{\"colorbar\":{\"outlinewidth\":0,\"ticks\":\"\"}}}],\"bar\":[{\"error_x\":{\"color\":\"#2a3f5f\"},\"error_y\":{\"color\":\"#2a3f5f\"},\"marker\":{\"line\":{\"color\":\"#E5ECF6\",\"width\":0.5},\"pattern\":{\"fillmode\":\"overlay\",\"size\":10,\"solidity\":0.2}},\"type\":\"bar\"}],\"scattergeo\":[{\"type\":\"scattergeo\",\"marker\":{\"colorbar\":{\"outlinewidth\":0,\"ticks\":\"\"}}}],\"scatterpolar\":[{\"type\":\"scatterpolar\",\"marker\":{\"colorbar\":{\"outlinewidth\":0,\"ticks\":\"\"}}}],\"histogram\":[{\"marker\":{\"pattern\":{\"fillmode\":\"overlay\",\"size\":10,\"solidity\":0.2}},\"type\":\"histogram\"}],\"scattergl\":[{\"type\":\"scattergl\",\"marker\":{\"colorbar\":{\"outlinewidth\":0,\"ticks\":\"\"}}}],\"scatter3d\":[{\"type\":\"scatter3d\",\"line\":{\"colorbar\":{\"outlinewidth\":0,\"ticks\":\"\"}},\"marker\":{\"colorbar\":{\"outlinewidth\":0,\"ticks\":\"\"}}}],\"scattermapbox\":[{\"type\":\"scattermapbox\",\"marker\":{\"colorbar\":{\"outlinewidth\":0,\"ticks\":\"\"}}}],\"scatterternary\":[{\"type\":\"scatterternary\",\"marker\":{\"colorbar\":{\"outlinewidth\":0,\"ticks\":\"\"}}}],\"scattercarpet\":[{\"type\":\"scattercarpet\",\"marker\":{\"colorbar\":{\"outlinewidth\":0,\"ticks\":\"\"}}}],\"carpet\":[{\"aaxis\":{\"endlinecolor\":\"#2a3f5f\",\"gridcolor\":\"white\",\"linecolor\":\"white\",\"minorgridcolor\":\"white\",\"startlinecolor\":\"#2a3f5f\"},\"baxis\":{\"endlinecolor\":\"#2a3f5f\",\"gridcolor\":\"white\",\"linecolor\":\"white\",\"minorgridcolor\":\"white\",\"startlinecolor\":\"#2a3f5f\"},\"type\":\"carpet\"}],\"table\":[{\"cells\":{\"fill\":{\"color\":\"#EBF0F8\"},\"line\":{\"color\":\"white\"}},\"header\":{\"fill\":{\"color\":\"#C8D4E3\"},\"line\":{\"color\":\"white\"}},\"type\":\"table\"}],\"barpolar\":[{\"marker\":{\"line\":{\"color\":\"#E5ECF6\",\"width\":0.5},\"pattern\":{\"fillmode\":\"overlay\",\"size\":10,\"solidity\":0.2}},\"type\":\"barpolar\"}],\"pie\":[{\"automargin\":true,\"type\":\"pie\"}]},\"layout\":{\"autotypenumbers\":\"strict\",\"colorway\":[\"#636efa\",\"#EF553B\",\"#00cc96\",\"#ab63fa\",\"#FFA15A\",\"#19d3f3\",\"#FF6692\",\"#B6E880\",\"#FF97FF\",\"#FECB52\"],\"font\":{\"color\":\"#2a3f5f\"},\"hovermode\":\"closest\",\"hoverlabel\":{\"align\":\"left\"},\"paper_bgcolor\":\"white\",\"plot_bgcolor\":\"#E5ECF6\",\"polar\":{\"bgcolor\":\"#E5ECF6\",\"angularaxis\":{\"gridcolor\":\"white\",\"linecolor\":\"white\",\"ticks\":\"\"},\"radialaxis\":{\"gridcolor\":\"white\",\"linecolor\":\"white\",\"ticks\":\"\"}},\"ternary\":{\"bgcolor\":\"#E5ECF6\",\"aaxis\":{\"gridcolor\":\"white\",\"linecolor\":\"white\",\"ticks\":\"\"},\"baxis\":{\"gridcolor\":\"white\",\"linecolor\":\"white\",\"ticks\":\"\"},\"caxis\":{\"gridcolor\":\"white\",\"linecolor\":\"white\",\"ticks\":\"\"}},\"coloraxis\":{\"colorbar\":{\"outlinewidth\":0,\"ticks\":\"\"}},\"colorscale\":{\"sequential\":[[0.0,\"#0d0887\"],[0.1111111111111111,\"#46039f\"],[0.2222222222222222,\"#7201a8\"],[0.3333333333333333,\"#9c179e\"],[0.4444444444444444,\"#bd3786\"],[0.5555555555555556,\"#d8576b\"],[0.6666666666666666,\"#ed7953\"],[0.7777777777777778,\"#fb9f3a\"],[0.8888888888888888,\"#fdca26\"],[1.0,\"#f0f921\"]],\"sequentialminus\":[[0.0,\"#0d0887\"],[0.1111111111111111,\"#46039f\"],[0.2222222222222222,\"#7201a8\"],[0.3333333333333333,\"#9c179e\"],[0.4444444444444444,\"#bd3786\"],[0.5555555555555556,\"#d8576b\"],[0.6666666666666666,\"#ed7953\"],[0.7777777777777778,\"#fb9f3a\"],[0.8888888888888888,\"#fdca26\"],[1.0,\"#f0f921\"]],\"diverging\":[[0,\"#8e0152\"],[0.1,\"#c51b7d\"],[0.2,\"#de77ae\"],[0.3,\"#f1b6da\"],[0.4,\"#fde0ef\"],[0.5,\"#f7f7f7\"],[0.6,\"#e6f5d0\"],[0.7,\"#b8e186\"],[0.8,\"#7fbc41\"],[0.9,\"#4d9221\"],[1,\"#276419\"]]},\"xaxis\":{\"gridcolor\":\"white\",\"linecolor\":\"white\",\"ticks\":\"\",\"title\":{\"standoff\":15},\"zerolinecolor\":\"white\",\"automargin\":true,\"zerolinewidth\":2},\"yaxis\":{\"gridcolor\":\"white\",\"linecolor\":\"white\",\"ticks\":\"\",\"title\":{\"standoff\":15},\"zerolinecolor\":\"white\",\"automargin\":true,\"zerolinewidth\":2},\"scene\":{\"xaxis\":{\"backgroundcolor\":\"#E5ECF6\",\"gridcolor\":\"white\",\"linecolor\":\"white\",\"showbackground\":true,\"ticks\":\"\",\"zerolinecolor\":\"white\",\"gridwidth\":2},\"yaxis\":{\"backgroundcolor\":\"#E5ECF6\",\"gridcolor\":\"white\",\"linecolor\":\"white\",\"showbackground\":true,\"ticks\":\"\",\"zerolinecolor\":\"white\",\"gridwidth\":2},\"zaxis\":{\"backgroundcolor\":\"#E5ECF6\",\"gridcolor\":\"white\",\"linecolor\":\"white\",\"showbackground\":true,\"ticks\":\"\",\"zerolinecolor\":\"white\",\"gridwidth\":2}},\"shapedefaults\":{\"line\":{\"color\":\"#2a3f5f\"}},\"annotationdefaults\":{\"arrowcolor\":\"#2a3f5f\",\"arrowhead\":0,\"arrowwidth\":1},\"geo\":{\"bgcolor\":\"white\",\"landcolor\":\"#E5ECF6\",\"subunitcolor\":\"white\",\"showland\":true,\"showlakes\":true,\"lakecolor\":\"white\"},\"title\":{\"x\":0.05},\"mapbox\":{\"style\":\"light\"}}},\"xaxis\":{\"anchor\":\"y\",\"domain\":[0.0,1.0],\"title\":{\"text\":\"Category\"}},\"yaxis\":{\"anchor\":\"x\",\"domain\":[0.0,1.0],\"title\":{\"text\":\"Value\"}},\"legend\":{\"tracegroupgap\":0},\"title\":{\"text\":\"Simple Bar Plot\"},\"barmode\":\"relative\"},                        {\"responsive\": true}                    ).then(function(){\n",
              "                            \n",
              "var gd = document.getElementById('932bc40c-f4fa-4dff-a81d-ce82f0117e63');\n",
              "var x = new MutationObserver(function (mutations, observer) {{\n",
              "        var display = window.getComputedStyle(gd).display;\n",
              "        if (!display || display === 'none') {{\n",
              "            console.log([gd, 'removed!']);\n",
              "            Plotly.purge(gd);\n",
              "            observer.disconnect();\n",
              "        }}\n",
              "}});\n",
              "\n",
              "// Listen for the removal of the full notebook cells\n",
              "var notebookContainer = gd.closest('#notebook-container');\n",
              "if (notebookContainer) {{\n",
              "    x.observe(notebookContainer, {childList: true});\n",
              "}}\n",
              "\n",
              "// Listen for the clearing of the current output cell\n",
              "var outputEl = gd.closest('.output');\n",
              "if (outputEl) {{\n",
              "    x.observe(outputEl, {childList: true});\n",
              "}}\n",
              "\n",
              "                        })                };                            </script>        </div>\n",
              "</body>\n",
              "</html>"
            ]
          },
          "metadata": {}
        }
      ]
    },
    {
      "cell_type": "code",
      "source": [
        "#6.  Create a DataFrame and add a new column based on an existing column?\n",
        "\n",
        "import pandas as pd\n",
        "\n",
        "# Create a DataFrame\n",
        "data = {'col1': [10, 20, 30, 40],\n",
        "        'col2': [100, 200, 300, 400]}\n",
        "df = pd.DataFrame(data)\n",
        "\n",
        "print(\"Original DataFrame:\\n\", df)\n",
        "\n",
        "# Add a new column 'new_col' which is 'col1' multiplied by 2\n",
        "df['new_col'] = df['col1'] * 2\n",
        "\n",
        "print(\"\\nDataFrame with new column:\\n\", df)"
      ],
      "metadata": {
        "colab": {
          "base_uri": "https://localhost:8080/"
        },
        "id": "w0CRF2BOFCKH",
        "outputId": "0e7c35d8-cbd3-4ed5-f13f-74aa5953e20b"
      },
      "execution_count": null,
      "outputs": [
        {
          "output_type": "stream",
          "name": "stdout",
          "text": [
            "Original DataFrame:\n",
            "    col1  col2\n",
            "0    10   100\n",
            "1    20   200\n",
            "2    30   300\n",
            "3    40   400\n",
            "\n",
            "DataFrame with new column:\n",
            "    col1  col2  new_col\n",
            "0    10   100       20\n",
            "1    20   200       40\n",
            "2    30   300       60\n",
            "3    40   400       80\n"
          ]
        }
      ]
    },
    {
      "cell_type": "code",
      "source": [
        "#7.  Write a program to perform element-wise multiplication of two NumPy arrays?\n",
        "\n",
        "import numpy as np\n",
        "\n",
        "# Create two NumPy arrays\n",
        "array1 = np.array([1, 2, 3, 4])\n",
        "array2 = np.array([5, 6, 7, 8])\n",
        "\n",
        "# Perform element-wise multiplication using the * operator\n",
        "result_array = array1 * array2\n",
        "\n",
        "print(\"Array 1:\", array1)\n",
        "print(\"Array 2:\", array2)\n",
        "print(\"Result of element-wise multiplication:\", result_array)"
      ],
      "metadata": {
        "colab": {
          "base_uri": "https://localhost:8080/"
        },
        "id": "T5-RSR--GmBZ",
        "outputId": "f5a40ae9-ae37-42f7-c84f-73d0c1b8961c"
      },
      "execution_count": null,
      "outputs": [
        {
          "output_type": "stream",
          "name": "stdout",
          "text": [
            "Array 1: [1 2 3 4]\n",
            "Array 2: [5 6 7 8]\n",
            "Result of element-wise multiplication: [ 5 12 21 32]\n"
          ]
        }
      ]
    },
    {
      "cell_type": "code",
      "source": [
        "#8. Create a line plot with multiple lines using Matplotlib?\n",
        "\n",
        "import matplotlib.pyplot as plt\n",
        "import numpy as np\n",
        "\n",
        "# Generate sample data for multiple lines\n",
        "x = np.linspace(0, 10, 100) # 100 points between 0 and 10\n",
        "\n",
        "y1 = np.sin(x)      # First line data (sine wave)\n",
        "y2 = np.cos(x)      # Second line data (cosine wave)\n",
        "y3 = x**2 / 50      # Third line data (parabolic)\n",
        "\n",
        "# Create the plot\n",
        "plt.figure(figsize=(10, 6)) # Adjust figure size as needed\n",
        "\n",
        "# Plot each line\n",
        "plt.plot(x, y1, label='sin(x)', color='blue')\n",
        "plt.plot(x, y2, label='cos(x)', color='red')\n",
        "plt.plot(x, y3, label='x^2/50', color='green')\n",
        "\n",
        "# Add labels, title, and legend\n",
        "plt.xlabel(\"X-axis\")\n",
        "plt.ylabel(\"Y-axis\")\n",
        "plt.title(\"Line Plot with Multiple Lines\")\n",
        "plt.legend() # Display the legend to identify lines\n",
        "\n",
        "# Add grid for better readability\n",
        "plt.grid(True)\n",
        "\n",
        "# Show the plot\n",
        "plt.show()"
      ],
      "metadata": {
        "colab": {
          "base_uri": "https://localhost:8080/",
          "height": 496
        },
        "id": "9VBeE-k0GxN8",
        "outputId": "9bef65ed-3106-46be-c109-721585f36025"
      },
      "execution_count": null,
      "outputs": [
        {
          "output_type": "display_data",
          "data": {
            "text/plain": [
              "<Figure size 1000x600 with 1 Axes>"
            ],
            "image/png": "[encoded data removed]"
          },
          "metadata": {}
        }
      ]
    },
    {
      "cell_type": "code",
      "source": [
        "#9.  Generate a Pandas DataFrame and filter rows where a column value is greater than a threshold?\n",
        "\n",
        "import pandas as pd\n",
        "\n",
        "# Create a sample DataFrame\n",
        "data = {'Category': ['A', 'B', 'C', 'D', 'E'],\n",
        "        'Value': [15, 20, 10, 25, 18],\n",
        "        'Another_Col': ['X', 'Y', 'Z', 'W', 'V']}\n",
        "df = pd.DataFrame(data)\n",
        "\n",
        "print(\"Original DataFrame:\\n\", df)\n",
        "\n",
        "# Define the threshold\n",
        "threshold = 17\n",
        "\n",
        "# Filter rows where 'Value' is greater than the threshold\n",
        "filtered_df = df[df['Value'] > threshold]\n",
        "\n",
        "print(f\"\\nDataFrame filtered for 'Value' > {threshold}:\\n\", filtered_df)"
      ],
      "metadata": {
        "colab": {
          "base_uri": "https://localhost:8080/"
        },
        "id": "1vqXgqUgIIMF",
        "outputId": "34b709f8-94bb-461c-a071-066041267729"
      },
      "execution_count": null,
      "outputs": [
        {
          "output_type": "stream",
          "name": "stdout",
          "text": [
            "Original DataFrame:\n",
            "   Category  Value Another_Col\n",
            "0        A     15           X\n",
            "1        B     20           Y\n",
            "2        C     10           Z\n",
            "3        D     25           W\n",
            "4        E     18           V\n",
            "\n",
            "DataFrame filtered for 'Value' > 17:\n",
            "   Category  Value Another_Col\n",
            "1        B     20           Y\n",
            "3        D     25           W\n",
            "4        E     18           V\n"
          ]
        }
      ]
    },
    {
      "cell_type": "code",
      "source": [
        "# 10. Create a histogram using Seaborn to visualize a distribution.\n",
        "import seaborn as sns\n",
        "import matplotlib.pyplot as plt\n",
        "import numpy as np\n",
        "\n",
        "# Generate a sample dataset\n",
        "data = np.random.normal(loc=50, scale=10, size=1000)  # Normal distribution\n",
        "\n",
        "# Create the histogram\n",
        "sns.histplot(data, bins=30, kde=True, color='skyblue')\n",
        "\n",
        "# Add titles and labels\n",
        "plt.title(\"Histogram of Normally Distributed Data\")\n",
        "plt.xlabel(\"Value\")\n",
        "plt.ylabel(\"Frequency\")\n",
        "\n",
        "# Show the plot\n",
        "plt.show()"
      ],
      "metadata": {
        "colab": {
          "base_uri": "https://localhost:8080/",
          "height": 472
        },
        "id": "WdN2E4s2wGJP",
        "outputId": "ab362913-34f1-4d7b-aa54-0173827fbfe0"
      },
      "execution_count": null,
      "outputs": [
        {
          "output_type": "display_data",
          "data": {
            "text/plain": [
              "<Figure size 640x480 with 1 Axes>"
            ],
            "image/png": "[encoded data removed]"
          },
          "metadata": {}
        }
      ]
    },
    {
      "cell_type": "code",
      "source": [
        "#11.  Perform matrix multiplication using NumPy?\n",
        "\n",
        "# Perform matrix multiplication using NumPy?\n",
        "\n",
        "import numpy as np\n",
        "\n",
        "# Create two NumPy matrices (2D arrays)\n",
        "matrix1 = np.array([[1, 2],\n",
        "                    [3, 4]])\n",
        "\n",
        "matrix2 = np.array([[5, 6],\n",
        "                    [7, 8]])\n",
        "\n",
        "print(\"Matrix 1:\\n\", matrix1)\n",
        "print(\"\\nMatrix 2:\\n\", matrix2)\n",
        "\n",
        "# Perform matrix multiplication using the @ operator (preferred in modern NumPy)\n",
        "# Alternatively, you can use np.matmul(matrix1, matrix2) or np.dot(matrix1, matrix2)\n",
        "# Note the difference between matmul/dot and the element-wise * operator (used in question 7).\n",
        "# matmul and dot perform matrix multiplication, while * performs element-wise multiplication.\n",
        "# Source [1, 2] explains the difference.\n",
        "result_matrix = matrix1 @ matrix2\n",
        "\n",
        "print(\"\\nResult of matrix multiplication (Matrix 1 @ Matrix 2):\\n\", result_matrix)\n"
      ],
      "metadata": {
        "colab": {
          "base_uri": "https://localhost:8080/"
        },
        "id": "kEWikPONJOTk",
        "outputId": "d8de52d8-3701-4d53-db32-8a9bbb016e54"
      },
      "execution_count": null,
      "outputs": [
        {
          "output_type": "stream",
          "name": "stdout",
          "text": [
            "Matrix 1:\n",
            " [[1 2]\n",
            " [3 4]]\n",
            "\n",
            "Matrix 2:\n",
            " [[5 6]\n",
            " [7 8]]\n",
            "\n",
            "Result of matrix multiplication (Matrix 1 @ Matrix 2):\n",
            " [[19 22]\n",
            " [43 50]]\n"
          ]
        }
      ]
    },
    {
      "cell_type": "code",
      "source": [
        "#12. Use Pandas to load a CSV file and display its first 5 rows.\n",
        "\n",
        "# Use Pandas to load a CSV file and display its first 5 rows.\n",
        "\n",
        "import pandas as pd\n",
        "import os\n",
        "\n",
        "# Create a dummy CSV file for demonstration\n",
        "csv_data = \"\"\"col1,col2,col3\n",
        "1,A,True\n",
        "2,B,False\n",
        "3,C,True\n",
        "4,D,False\n",
        "5,E,True\n",
        "6,F,False\n",
        "7,G,True\n",
        "8,H,False\n",
        "9,I,True\n",
        "10,J,False\n",
        "\"\"\"\n",
        "\n",
        "file_name = 'sample_data.csv'\n",
        "\n",
        "# Write the data to a CSV file\n",
        "with open(file_name, 'w') as f:\n",
        "    f.write(csv_data)\n",
        "\n",
        "# Check if the file was created successfully\n",
        "if os.path.exists(file_name):\n",
        "    print(f\"'{file_name}' created successfully.\\n\")\n",
        "\n",
        "    # Load the CSV file into a Pandas DataFrame\n",
        "    try:\n",
        "        df = pd.read_csv(file_name)\n",
        "\n",
        "        print(\"Original DataFrame loaded from CSV:\\n\", df)\n",
        "\n",
        "        # Display the first 5 rows using the .head() method\n",
        "        # The .head(n) method returns the first n rows. If n is not specified, it defaults to 5.\n",
        "        # Source [1] confirms the use of .head() to show the first n rows.\n",
        "        first_5_rows = df.head(5)\n",
        "\n",
        "        print(\"\\nFirst 5 rows of the DataFrame:\\n\", first_5_rows)\n",
        "\n",
        "    except FileNotFoundError:\n",
        "        print(f\"Error: The file '{file_name}' was not found.\")\n",
        "    except Exception as e:\n",
        "        print(f\"An error occurred: {e}\")\n",
        "\n",
        "else:\n",
        "    print(f\"Error: Failed to create '{file_name}'.\")\n",
        "\n",
        "# Clean up the dummy file\n",
        "# import os\n",
        "# os.remove(file_name)"
      ],
      "metadata": {
        "colab": {
          "base_uri": "https://localhost:8080/"
        },
        "id": "k7GR3t-hJvHW",
        "outputId": "0550417d-fb29-4aec-89d9-2b59120b2e29"
      },
      "execution_count": null,
      "outputs": [
        {
          "output_type": "stream",
          "name": "stdout",
          "text": [
            "'sample_data.csv' created successfully.\n",
            "\n",
            "Original DataFrame loaded from CSV:\n",
            "    col1 col2   col3\n",
            "0     1    A   True\n",
            "1     2    B  False\n",
            "2     3    C   True\n",
            "3     4    D  False\n",
            "4     5    E   True\n",
            "5     6    F  False\n",
            "6     7    G   True\n",
            "7     8    H  False\n",
            "8     9    I   True\n",
            "9    10    J  False\n",
            "\n",
            "First 5 rows of the DataFrame:\n",
            "    col1 col2   col3\n",
            "0     1    A   True\n",
            "1     2    B  False\n",
            "2     3    C   True\n",
            "3     4    D  False\n",
            "4     5    E   True\n"
          ]
        }
      ]
    },
    {
      "cell_type": "code",
      "source": [
        "#13.  Create a 3D scatter plot using Plotly.\n",
        "\n",
        "import plotly.graph_objs as go\n",
        "import plotly.io as pio\n",
        "import numpy as np\n",
        "\n",
        "# Sample data\n",
        "np.random.seed(42)\n",
        "x = np.random.randn(100)\n",
        "y = np.random.randn(100)\n",
        "z = np.random.randn(100)\n",
        "\n",
        "# Create 3D scatter plot\n",
        "scatter = go.Scatter3d(\n",
        "    x=x,\n",
        "    y=y,\n",
        "    z=z,\n",
        "    mode='markers',\n",
        "    marker=dict(\n",
        "        size=5,\n",
        "        color=z,                # Set color to the 'z' values\n",
        "        colorscale='Viridis',   # Choose a colorscale\n",
        "        opacity=0.8\n",
        "    )\n",
        ")\n",
        "\n",
        "layout = go.Layout(\n",
        "    margin=dict(l=0, r=0, b=0, t=0),\n",
        "    scene=dict(\n",
        "        xaxis_title='X Axis',\n",
        "        yaxis_title='Y Axis',\n",
        "        zaxis_title='Z Axis'\n",
        "    )\n",
        ")\n",
        "\n",
        "fig = go.Figure(data=[scatter], layout=layout)\n",
        "\n",
        "# Show plot\n",
        "pio.show(fig)\n"
      ],
      "metadata": {
        "colab": {
          "base_uri": "https://localhost:8080/",
          "height": 542
        },
        "id": "78xzNcs7HeTr",
        "outputId": "9663b5db-2c0f-4a07-b2a0-c50fbff1b0b3"
      },
      "execution_count": 1,
      "outputs": [
        {
          "output_type": "display_data",
          "data": {
            "text/html": [
              "<html>\n",
              "<head><meta charset=\"utf-8\" /></head>\n",
              "<body>\n",
              "    <div>            <script src=\"https://cdnjs.cloudflare.com/ajax/libs/mathjax/2.7.5/MathJax.js?config=TeX-AMS-MML_SVG\"></script><script type=\"text/javascript\">if (window.MathJax && window.MathJax.Hub && window.MathJax.Hub.Config) {window.MathJax.Hub.Config({SVG: {font: \"STIX-Web\"}});}</script>                <script type=\"text/javascript\">window.PlotlyConfig = {MathJaxConfig: 'local'};</script>\n",
              "        <script charset=\"utf-8\" src=\"https://cdn.plot.ly/plotly-2.35.2.min.js\"></script>                <div id=\"da5a5fee-0156-4b1a-9a90-b9d7a826a6a9\" class=\"plotly-graph-div\" style=\"height:525px; width:100%;\"></div>            <script type=\"text/javascript\">                                    window.PLOTLYENV=window.PLOTLYENV || {};                                    if (document.getElementById(\"da5a5fee-0156-4b1a-9a90-b9d7a826a6a9\")) {                    Plotly.newPlot(                        \"da5a5fee-0156-4b1a-9a90-b9d7a826a6a9\",                        [{\"marker\":{\"color\":[0.3577873603482833,0.5607845263682344,1.083051243175277,1.053802052034903,-1.377669367957091,-0.9378250399151228,0.5150352672086598,0.5137859509122088,0.5150476863060479,3.852731490654721,0.570890510693167,1.135565640180599,0.9540017634932023,0.651391251305798,-0.3152692446403456,0.7589692204932674,-0.7728252145375718,-0.23681860674000887,-0.48536354782910346,0.08187413938632256,2.3146585666735087,-1.867265192591748,0.6862601903745135,-1.6127158711896517,-0.47193186578943347,1.088950596967366,0.06428001909546277,-1.0777447779293061,-0.7153037092599682,0.6795977489346758,-0.7303666317171367,0.21645858958197486,0.045571839903813784,-0.6516003476058171,2.1439440893253257,0.6339190223180112,-2.025142586657607,0.18645431476942764,-0.661786464768388,0.852433334796224,-0.7925207384327007,-0.11473644146689901,0.5049872789804571,0.8657551941701215,-1.2002964070557762,-0.3345012358409484,-0.4749453111609562,-0.6533292325737119,1.7654542402810969,0.40498171096095553,-1.2608839543350452,0.9178619470547761,2.1221561970126332,1.0324652605511468,-1.5193699659540134,-0.48423407286625136,1.2669111491866227,-0.7076694656187807,0.44381942814622843,0.7746340534293368,-0.926930471578083,-0.05952535606180008,-3.2412673400690726,-1.0243876413342898,-0.2525681513931603,-1.2477831819648495,1.6324113039316352,-1.4301413779606327,-0.44004448669698376,0.13074057728609134,1.4412732890661155,-1.4358621511794394,1.1631637521549596,0.010233061019587049,-0.9815086510479509,0.46210347426327075,0.19905969557347003,-0.6002168771587947,0.06980208499001891,-0.3853135968617602,0.11351734525124804,0.6621306745210467,1.586016816145352,-1.237815498826849,2.1330333746562666,-1.9520877995225019,-0.15178509503558332,0.5883172064845765,0.28099186773503265,-0.6226995198205938,-0.20812225035727522,-0.4930009346588328,-0.5893647569442115,0.8496020970210246,0.35701548596504734,-0.6929095952606542,0.8995998754332507,0.30729952087660933,0.8128621188389601,0.6296288419236122],\"colorscale\":[[0.0,\"#440154\"],[0.1111111111111111,\"#482878\"],[0.2222222222222222,\"#3e4989\"],[0.3333333333333333,\"#31688e\"],[0.4444444444444444,\"#26828e\"],[0.5555555555555556,\"#1f9e89\"],[0.6666666666666666,\"#35b779\"],[0.7777777777777778,\"#6ece58\"],[0.8888888888888888,\"#b5de2b\"],[1.0,\"#fde725\"]],\"opacity\":0.8,\"size\":5},\"mode\":\"markers\",\"x\":[0.4967141530112327,-0.13826430117118466,0.6476885381006925,1.5230298564080254,-0.23415337472333597,-0.23413695694918055,1.5792128155073915,0.7674347291529088,-0.4694743859349521,0.5425600435859647,-0.46341769281246226,-0.46572975357025687,0.24196227156603412,-1.913280244657798,-1.7249178325130328,-0.5622875292409727,-1.0128311203344238,0.3142473325952739,-0.9080240755212109,-1.4123037013352915,1.465648768921554,-0.22577630048653566,0.06752820468792384,-1.4247481862134568,-0.5443827245251827,0.11092258970986608,-1.1509935774223028,0.37569801834567196,-0.600638689918805,-0.2916937497932768,-0.6017066122293969,1.8522781845089378,-0.013497224737933921,-1.0577109289559004,0.822544912103189,-1.2208436499710222,0.2088635950047554,-1.9596701238797756,-1.3281860488984305,0.19686123586912352,0.7384665799954104,0.1713682811899705,-0.11564828238824053,-0.3011036955892888,-1.4785219903674274,-0.7198442083947086,-0.4606387709597875,1.0571222262189157,0.3436182895684614,-1.763040155362734,0.324083969394795,-0.38508228041631654,-0.6769220003059587,0.6116762888408679,1.030999522495951,0.9312801191161986,-0.8392175232226385,-0.3092123758512146,0.33126343140356396,0.9755451271223592,-0.47917423784528995,-0.18565897666381712,-1.1063349740060282,-1.1962066240806708,0.812525822394198,1.356240028570823,-0.07201012158033385,1.0035328978920242,0.36163602504763415,-0.6451197546051243,0.36139560550841393,1.5380365664659692,-0.03582603910995154,1.5646436558140062,-2.6197451040897444,0.8219025043752238,0.08704706823817122,-0.29900735046586746,0.0917607765355023,-1.9875689146008928,-0.21967188783751193,0.3571125715117464,1.477894044741516,-0.5182702182736474,-0.8084936028931876,-0.5017570435845365,0.9154021177020741,0.32875110965968446,-0.5297602037670388,0.5132674331133561,0.09707754934804039,0.9686449905328892,-0.7020530938773524,-0.3276621465977682,-0.39210815313215763,-1.4635149481321186,0.29612027706457605,0.26105527217988933,0.00511345664246089,-0.23458713337514692],\"y\":[-1.4153707420504142,-0.42064532276535904,-0.3427145165267695,-0.8022772692216189,-0.16128571166600914,0.4040508568145384,1.8861859012105302,0.17457781283183896,0.25755039072276437,-0.07444591576616721,-1.9187712152990415,-0.026513875449216878,0.06023020994102644,2.463242112485286,-0.19236096478112252,0.30154734233361247,-0.03471176970524331,-1.168678037619532,1.1428228145150205,0.7519330326867741,0.7910319470430469,-0.9093874547947389,1.4027943109360992,-1.4018510627922809,0.5868570938002703,2.1904556258099785,-0.9905363251306883,-0.5662977296027719,0.09965136508764122,-0.5034756541161992,-1.5506634310661327,0.06856297480602733,-1.0623037137261049,0.4735924306351816,-0.9194242342338032,1.5499344050175394,-0.7832532923362371,-0.3220615162056756,0.8135172173696698,-1.2308643164339552,0.22745993460412942,1.307142754282428,-1.6074832345612275,0.1846338585323042,0.25988279424842353,0.7818228717773104,-1.236950710878082,-1.3204566130842763,0.5219415656168976,0.29698467323318606,0.25049285034587654,0.3464482094969757,-0.6800247215784908,0.23225369716100355,0.29307247329868125,-0.7143514180263678,1.8657745111447566,0.4738329209117875,-1.1913034972026486,0.6565536086338297,-0.9746816702273214,0.787084603742452,1.158595579007404,-0.8206823183517105,0.9633761292443218,0.4127809269364983,0.82206015999449,1.8967929826539474,-0.2453881160028705,-0.7537361643574896,-0.8895144296255233,-0.8158102849654383,-0.0771017094141042,0.3411519748166439,0.27669079933001905,0.8271832490360238,0.01300189187790702,1.4535340771573169,-0.2646568332379561,2.720169166589619,0.6256673477650062,-0.8571575564162826,-1.0708924980611123,0.4824724152431853,-0.2234627853258509,0.714000494092092,0.47323762457354485,-0.07282891265687277,-0.846793718068405,-1.5148472246858646,-0.4465149520670211,0.8563987943234723,0.21409374413020396,-1.245738778711988,0.173180925851182,0.3853173797288368,-0.883857436201133,0.1537251059455279,0.058208718445999896,-1.142970297830623],\"z\":[0.3577873603482833,0.5607845263682344,1.083051243175277,1.053802052034903,-1.377669367957091,-0.9378250399151228,0.5150352672086598,0.5137859509122088,0.5150476863060479,3.852731490654721,0.570890510693167,1.135565640180599,0.9540017634932023,0.651391251305798,-0.3152692446403456,0.7589692204932674,-0.7728252145375718,-0.23681860674000887,-0.48536354782910346,0.08187413938632256,2.3146585666735087,-1.867265192591748,0.6862601903745135,-1.6127158711896517,-0.47193186578943347,1.088950596967366,0.06428001909546277,-1.0777447779293061,-0.7153037092599682,0.6795977489346758,-0.7303666317171367,0.21645858958197486,0.045571839903813784,-0.6516003476058171,2.1439440893253257,0.6339190223180112,-2.025142586657607,0.18645431476942764,-0.661786464768388,0.852433334796224,-0.7925207384327007,-0.11473644146689901,0.5049872789804571,0.8657551941701215,-1.2002964070557762,-0.3345012358409484,-0.4749453111609562,-0.6533292325737119,1.7654542402810969,0.40498171096095553,-1.2608839543350452,0.9178619470547761,2.1221561970126332,1.0324652605511468,-1.5193699659540134,-0.48423407286625136,1.2669111491866227,-0.7076694656187807,0.44381942814622843,0.7746340534293368,-0.926930471578083,-0.05952535606180008,-3.2412673400690726,-1.0243876413342898,-0.2525681513931603,-1.2477831819648495,1.6324113039316352,-1.4301413779606327,-0.44004448669698376,0.13074057728609134,1.4412732890661155,-1.4358621511794394,1.1631637521549596,0.010233061019587049,-0.9815086510479509,0.46210347426327075,0.19905969557347003,-0.6002168771587947,0.06980208499001891,-0.3853135968617602,0.11351734525124804,0.6621306745210467,1.586016816145352,-1.237815498826849,2.1330333746562666,-1.9520877995225019,-0.15178509503558332,0.5883172064845765,0.28099186773503265,-0.6226995198205938,-0.20812225035727522,-0.4930009346588328,-0.5893647569442115,0.8496020970210246,0.35701548596504734,-0.6929095952606542,0.8995998754332507,0.30729952087660933,0.8128621188389601,0.6296288419236122],\"type\":\"scatter3d\"}],                        {\"margin\":{\"b\":0,\"l\":0,\"r\":0,\"t\":0},\"scene\":{\"xaxis\":{\"title\":{\"text\":\"X Axis\"}},\"yaxis\":{\"title\":{\"text\":\"Y Axis\"}},\"zaxis\":{\"title\":{\"text\":\"Z Axis\"}}},\"template\":{\"data\":{\"histogram2dcontour\":[{\"type\":\"histogram2dcontour\",\"colorbar\":{\"outlinewidth\":0,\"ticks\":\"\"},\"colorscale\":[[0.0,\"#0d0887\"],[0.1111111111111111,\"#46039f\"],[0.2222222222222222,\"#7201a8\"],[0.3333333333333333,\"#9c179e\"],[0.4444444444444444,\"#bd3786\"],[0.5555555555555556,\"#d8576b\"],[0.6666666666666666,\"#ed7953\"],[0.7777777777777778,\"#fb9f3a\"],[0.8888888888888888,\"#fdca26\"],[1.0,\"#f0f921\"]]}],\"choropleth\":[{\"type\":\"choropleth\",\"colorbar\":{\"outlinewidth\":0,\"ticks\":\"\"}}],\"histogram2d\":[{\"type\":\"histogram2d\",\"colorbar\":{\"outlinewidth\":0,\"ticks\":\"\"},\"colorscale\":[[0.0,\"#0d0887\"],[0.1111111111111111,\"#46039f\"],[0.2222222222222222,\"#7201a8\"],[0.3333333333333333,\"#9c179e\"],[0.4444444444444444,\"#bd3786\"],[0.5555555555555556,\"#d8576b\"],[0.6666666666666666,\"#ed7953\"],[0.7777777777777778,\"#fb9f3a\"],[0.8888888888888888,\"#fdca26\"],[1.0,\"#f0f921\"]]}],\"heatmap\":[{\"type\":\"heatmap\",\"colorbar\":{\"outlinewidth\":0,\"ticks\":\"\"},\"colorscale\":[[0.0,\"#0d0887\"],[0.1111111111111111,\"#46039f\"],[0.2222222222222222,\"#7201a8\"],[0.3333333333333333,\"#9c179e\"],[0.4444444444444444,\"#bd3786\"],[0.5555555555555556,\"#d8576b\"],[0.6666666666666666,\"#ed7953\"],[0.7777777777777778,\"#fb9f3a\"],[0.8888888888888888,\"#fdca26\"],[1.0,\"#f0f921\"]]}],\"heatmapgl\":[{\"type\":\"heatmapgl\",\"colorbar\":{\"outlinewidth\":0,\"ticks\":\"\"},\"colorscale\":[[0.0,\"#0d0887\"],[0.1111111111111111,\"#46039f\"],[0.2222222222222222,\"#7201a8\"],[0.3333333333333333,\"#9c179e\"],[0.4444444444444444,\"#bd3786\"],[0.5555555555555556,\"#d8576b\"],[0.6666666666666666,\"#ed7953\"],[0.7777777777777778,\"#fb9f3a\"],[0.8888888888888888,\"#fdca26\"],[1.0,\"#f0f921\"]]}],\"contourcarpet\":[{\"type\":\"contourcarpet\",\"colorbar\":{\"outlinewidth\":0,\"ticks\":\"\"}}],\"contour\":[{\"type\":\"contour\",\"colorbar\":{\"outlinewidth\":0,\"ticks\":\"\"},\"colorscale\":[[0.0,\"#0d0887\"],[0.1111111111111111,\"#46039f\"],[0.2222222222222222,\"#7201a8\"],[0.3333333333333333,\"#9c179e\"],[0.4444444444444444,\"#bd3786\"],[0.5555555555555556,\"#d8576b\"],[0.6666666666666666,\"#ed7953\"],[0.7777777777777778,\"#fb9f3a\"],[0.8888888888888888,\"#fdca26\"],[1.0,\"#f0f921\"]]}],\"surface\":[{\"type\":\"surface\",\"colorbar\":{\"outlinewidth\":0,\"ticks\":\"\"},\"colorscale\":[[0.0,\"#0d0887\"],[0.1111111111111111,\"#46039f\"],[0.2222222222222222,\"#7201a8\"],[0.3333333333333333,\"#9c179e\"],[0.4444444444444444,\"#bd3786\"],[0.5555555555555556,\"#d8576b\"],[0.6666666666666666,\"#ed7953\"],[0.7777777777777778,\"#fb9f3a\"],[0.8888888888888888,\"#fdca26\"],[1.0,\"#f0f921\"]]}],\"mesh3d\":[{\"type\":\"mesh3d\",\"colorbar\":{\"outlinewidth\":0,\"ticks\":\"\"}}],\"scatter\":[{\"fillpattern\":{\"fillmode\":\"overlay\",\"size\":10,\"solidity\":0.2},\"type\":\"scatter\"}],\"parcoords\":[{\"type\":\"parcoords\",\"line\":{\"colorbar\":{\"outlinewidth\":0,\"ticks\":\"\"}}}],\"scatterpolargl\":[{\"type\":\"scatterpolargl\",\"marker\":{\"colorbar\":{\"outlinewidth\":0,\"ticks\":\"\"}}}],\"bar\":[{\"error_x\":{\"color\":\"#2a3f5f\"},\"error_y\":{\"color\":\"#2a3f5f\"},\"marker\":{\"line\":{\"color\":\"#E5ECF6\",\"width\":0.5},\"pattern\":{\"fillmode\":\"overlay\",\"size\":10,\"solidity\":0.2}},\"type\":\"bar\"}],\"scattergeo\":[{\"type\":\"scattergeo\",\"marker\":{\"colorbar\":{\"outlinewidth\":0,\"ticks\":\"\"}}}],\"scatterpolar\":[{\"type\":\"scatterpolar\",\"marker\":{\"colorbar\":{\"outlinewidth\":0,\"ticks\":\"\"}}}],\"histogram\":[{\"marker\":{\"pattern\":{\"fillmode\":\"overlay\",\"size\":10,\"solidity\":0.2}},\"type\":\"histogram\"}],\"scattergl\":[{\"type\":\"scattergl\",\"marker\":{\"colorbar\":{\"outlinewidth\":0,\"ticks\":\"\"}}}],\"scatter3d\":[{\"type\":\"scatter3d\",\"line\":{\"colorbar\":{\"outlinewidth\":0,\"ticks\":\"\"}},\"marker\":{\"colorbar\":{\"outlinewidth\":0,\"ticks\":\"\"}}}],\"scattermapbox\":[{\"type\":\"scattermapbox\",\"marker\":{\"colorbar\":{\"outlinewidth\":0,\"ticks\":\"\"}}}],\"scatterternary\":[{\"type\":\"scatterternary\",\"marker\":{\"colorbar\":{\"outlinewidth\":0,\"ticks\":\"\"}}}],\"scattercarpet\":[{\"type\":\"scattercarpet\",\"marker\":{\"colorbar\":{\"outlinewidth\":0,\"ticks\":\"\"}}}],\"carpet\":[{\"aaxis\":{\"endlinecolor\":\"#2a3f5f\",\"gridcolor\":\"white\",\"linecolor\":\"white\",\"minorgridcolor\":\"white\",\"startlinecolor\":\"#2a3f5f\"},\"baxis\":{\"endlinecolor\":\"#2a3f5f\",\"gridcolor\":\"white\",\"linecolor\":\"white\",\"minorgridcolor\":\"white\",\"startlinecolor\":\"#2a3f5f\"},\"type\":\"carpet\"}],\"table\":[{\"cells\":{\"fill\":{\"color\":\"#EBF0F8\"},\"line\":{\"color\":\"white\"}},\"header\":{\"fill\":{\"color\":\"#C8D4E3\"},\"line\":{\"color\":\"white\"}},\"type\":\"table\"}],\"barpolar\":[{\"marker\":{\"line\":{\"color\":\"#E5ECF6\",\"width\":0.5},\"pattern\":{\"fillmode\":\"overlay\",\"size\":10,\"solidity\":0.2}},\"type\":\"barpolar\"}],\"pie\":[{\"automargin\":true,\"type\":\"pie\"}]},\"layout\":{\"autotypenumbers\":\"strict\",\"colorway\":[\"#636efa\",\"#EF553B\",\"#00cc96\",\"#ab63fa\",\"#FFA15A\",\"#19d3f3\",\"#FF6692\",\"#B6E880\",\"#FF97FF\",\"#FECB52\"],\"font\":{\"color\":\"#2a3f5f\"},\"hovermode\":\"closest\",\"hoverlabel\":{\"align\":\"left\"},\"paper_bgcolor\":\"white\",\"plot_bgcolor\":\"#E5ECF6\",\"polar\":{\"bgcolor\":\"#E5ECF6\",\"angularaxis\":{\"gridcolor\":\"white\",\"linecolor\":\"white\",\"ticks\":\"\"},\"radialaxis\":{\"gridcolor\":\"white\",\"linecolor\":\"white\",\"ticks\":\"\"}},\"ternary\":{\"bgcolor\":\"#E5ECF6\",\"aaxis\":{\"gridcolor\":\"white\",\"linecolor\":\"white\",\"ticks\":\"\"},\"baxis\":{\"gridcolor\":\"white\",\"linecolor\":\"white\",\"ticks\":\"\"},\"caxis\":{\"gridcolor\":\"white\",\"linecolor\":\"white\",\"ticks\":\"\"}},\"coloraxis\":{\"colorbar\":{\"outlinewidth\":0,\"ticks\":\"\"}},\"colorscale\":{\"sequential\":[[0.0,\"#0d0887\"],[0.1111111111111111,\"#46039f\"],[0.2222222222222222,\"#7201a8\"],[0.3333333333333333,\"#9c179e\"],[0.4444444444444444,\"#bd3786\"],[0.5555555555555556,\"#d8576b\"],[0.6666666666666666,\"#ed7953\"],[0.7777777777777778,\"#fb9f3a\"],[0.8888888888888888,\"#fdca26\"],[1.0,\"#f0f921\"]],\"sequentialminus\":[[0.0,\"#0d0887\"],[0.1111111111111111,\"#46039f\"],[0.2222222222222222,\"#7201a8\"],[0.3333333333333333,\"#9c179e\"],[0.4444444444444444,\"#bd3786\"],[0.5555555555555556,\"#d8576b\"],[0.6666666666666666,\"#ed7953\"],[0.7777777777777778,\"#fb9f3a\"],[0.8888888888888888,\"#fdca26\"],[1.0,\"#f0f921\"]],\"diverging\":[[0,\"#8e0152\"],[0.1,\"#c51b7d\"],[0.2,\"#de77ae\"],[0.3,\"#f1b6da\"],[0.4,\"#fde0ef\"],[0.5,\"#f7f7f7\"],[0.6,\"#e6f5d0\"],[0.7,\"#b8e186\"],[0.8,\"#7fbc41\"],[0.9,\"#4d9221\"],[1,\"#276419\"]]},\"xaxis\":{\"gridcolor\":\"white\",\"linecolor\":\"white\",\"ticks\":\"\",\"title\":{\"standoff\":15},\"zerolinecolor\":\"white\",\"automargin\":true,\"zerolinewidth\":2},\"yaxis\":{\"gridcolor\":\"white\",\"linecolor\":\"white\",\"ticks\":\"\",\"title\":{\"standoff\":15},\"zerolinecolor\":\"white\",\"automargin\":true,\"zerolinewidth\":2},\"scene\":{\"xaxis\":{\"backgroundcolor\":\"#E5ECF6\",\"gridcolor\":\"white\",\"linecolor\":\"white\",\"showbackground\":true,\"ticks\":\"\",\"zerolinecolor\":\"white\",\"gridwidth\":2},\"yaxis\":{\"backgroundcolor\":\"#E5ECF6\",\"gridcolor\":\"white\",\"linecolor\":\"white\",\"showbackground\":true,\"ticks\":\"\",\"zerolinecolor\":\"white\",\"gridwidth\":2},\"zaxis\":{\"backgroundcolor\":\"#E5ECF6\",\"gridcolor\":\"white\",\"linecolor\":\"white\",\"showbackground\":true,\"ticks\":\"\",\"zerolinecolor\":\"white\",\"gridwidth\":2}},\"shapedefaults\":{\"line\":{\"color\":\"#2a3f5f\"}},\"annotationdefaults\":{\"arrowcolor\":\"#2a3f5f\",\"arrowhead\":0,\"arrowwidth\":1},\"geo\":{\"bgcolor\":\"white\",\"landcolor\":\"#E5ECF6\",\"subunitcolor\":\"white\",\"showland\":true,\"showlakes\":true,\"lakecolor\":\"white\"},\"title\":{\"x\":0.05},\"mapbox\":{\"style\":\"light\"}}}},                        {\"responsive\": true}                    ).then(function(){\n",
              "                            \n",
              "var gd = document.getElementById('da5a5fee-0156-4b1a-9a90-b9d7a826a6a9');\n",
              "var x = new MutationObserver(function (mutations, observer) {{\n",
              "        var display = window.getComputedStyle(gd).display;\n",
              "        if (!display || display === 'none') {{\n",
              "            console.log([gd, 'removed!']);\n",
              "            Plotly.purge(gd);\n",
              "            observer.disconnect();\n",
              "        }}\n",
              "}});\n",
              "\n",
              "// Listen for the removal of the full notebook cells\n",
              "var notebookContainer = gd.closest('#notebook-container');\n",
              "if (notebookContainer) {{\n",
              "    x.observe(notebookContainer, {childList: true});\n",
              "}}\n",
              "\n",
              "// Listen for the clearing of the current output cell\n",
              "var outputEl = gd.closest('.output');\n",
              "if (outputEl) {{\n",
              "    x.observe(outputEl, {childList: true});\n",
              "}}\n",
              "\n",
              "                        })                };                            </script>        </div>\n",
              "</body>\n",
              "</html>"
            ]
          },
          "metadata": {}
        }
      ]
    }
  ]
}